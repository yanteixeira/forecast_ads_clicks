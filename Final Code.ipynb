{
 "cells": [
  {
   "cell_type": "code",
   "execution_count": 1,
   "id": "0ca4e27d-f362-469b-b11f-b5d775b60efd",
   "metadata": {},
   "outputs": [],
   "source": [
    "import pandas as pd\n",
    "import matplotlib.pyplot as plt\n",
    "import seaborn as sns\n",
    "import numpy as np\n",
    "import statistics\n",
    "from statsmodels.tsa.stattools import adfuller\n",
    "from sklearn.pipeline import Pipeline, make_pipeline\n",
    "from sklearn.model_selection import KFold\n",
    "from sklearn.base import clone\n",
    "from sklearn.metrics import root_mean_squared_error\n",
    "import datetime\n",
    "import catboost\n",
    "from catboost import CatBoostRegressor, Pool\n",
    "from colorama import Fore, Style\n",
    "from pmdarima import auto_arima\n",
    "from sklearn.inspection import PartialDependenceDisplay"
   ]
  },
  {
   "cell_type": "markdown",
   "id": "930c994a-c17a-446d-aad6-a24903fcddf1",
   "metadata": {},
   "source": [
    "## Overview\n",
    "\n",
    "The solution below achieved #1 on the public leaderboard and #2 on the private one for the Adbot Ad Engagement Forecasting Challenge.\n",
    "\n",
    "The original data is grouped by date and ID and then separated into three groups: (i) active IDs, (ii) inactive IDs from 2023, and (iii) inactive IDs from 2024.\n",
    "\n",
    "Each group receives a different forecast function that effectively creates a test DataFrame for each of them.\n",
    "- For group (i), all the IDs are classified as \"stationary\" or \"non-stationary\". For stationary IDs, SARIMA is used; otherwise, a moving average is used.\n",
    "- For groups (ii) and (iii), IDs do not receive classification. Instead, the descriptive ads features are forecasted using a moving average, and the impressions and cost use a decreasing rate. This choice was made because it was observed in the historical data that IDs that became inactive showed a decrease in values for impressions, cost, and consequently, clicks.\n",
    "\n",
    "After the forecast stage, all the groups are concatenated. The final data transformation updates the last recorded dates for the \"gap IDs\" clients. This group refers to the IDs that have a gap between their last recorded historical data and the dates requested in the submission file. Since it was observed that once a client became active after a period of inactivity, their metrics continued as if the inactivity never happened, I decided to update the dates to be closer to the submission dates to mimic the historical pattern.\n",
    "\n",
    "With our final DataFrame in hand, some feature engineering is done, and then the DataFrame is separated into train and test sets. A CatBoost regressor is trained on the entire dataset and then used to make the predictions."
   ]
  },
  {
   "cell_type": "code",
   "execution_count": 2,
   "id": "ae6dd705-054b-45ae-9b68-4dbff14f9627",
   "metadata": {},
   "outputs": [
    {
     "data": {
      "text/html": [
       "<div>\n",
       "<style scoped>\n",
       "    .dataframe tbody tr th:only-of-type {\n",
       "        vertical-align: middle;\n",
       "    }\n",
       "\n",
       "    .dataframe tbody tr th {\n",
       "        vertical-align: top;\n",
       "    }\n",
       "\n",
       "    .dataframe thead th {\n",
       "        text-align: right;\n",
       "    }\n",
       "</style>\n",
       "<table border=\"1\" class=\"dataframe\">\n",
       "  <thead>\n",
       "    <tr style=\"text-align: right;\">\n",
       "      <th></th>\n",
       "      <th>ID</th>\n",
       "      <th>date</th>\n",
       "      <th>ad_type</th>\n",
       "      <th>impressions</th>\n",
       "      <th>clicks</th>\n",
       "      <th>ad_description_len</th>\n",
       "      <th>headline1_len</th>\n",
       "      <th>headline2_len</th>\n",
       "      <th>impression_share</th>\n",
       "      <th>cost</th>\n",
       "      <th>n_ads</th>\n",
       "    </tr>\n",
       "  </thead>\n",
       "  <tbody>\n",
       "    <tr>\n",
       "      <th>0</th>\n",
       "      <td>ID_5da86e71bf5dee4cf5047046</td>\n",
       "      <td>2020-01-01</td>\n",
       "      <td>EXPANDED_TEXT_AD</td>\n",
       "      <td>142.0</td>\n",
       "      <td>15.0</td>\n",
       "      <td>11.0</td>\n",
       "      <td>2.0</td>\n",
       "      <td>5.0</td>\n",
       "      <td>16.279669</td>\n",
       "      <td>3393.0</td>\n",
       "      <td>1</td>\n",
       "    </tr>\n",
       "    <tr>\n",
       "      <th>1</th>\n",
       "      <td>ID_5da86e71bf5dee4cf5047046</td>\n",
       "      <td>2020-01-01</td>\n",
       "      <td>EXPANDED_TEXT_AD</td>\n",
       "      <td>89.0</td>\n",
       "      <td>8.0</td>\n",
       "      <td>13.0</td>\n",
       "      <td>2.0</td>\n",
       "      <td>2.0</td>\n",
       "      <td>16.279669</td>\n",
       "      <td>1817.0</td>\n",
       "      <td>1</td>\n",
       "    </tr>\n",
       "  </tbody>\n",
       "</table>\n",
       "</div>"
      ],
      "text/plain": [
       "                            ID        date           ad_type  impressions  \\\n",
       "0  ID_5da86e71bf5dee4cf5047046  2020-01-01  EXPANDED_TEXT_AD        142.0   \n",
       "1  ID_5da86e71bf5dee4cf5047046  2020-01-01  EXPANDED_TEXT_AD         89.0   \n",
       "\n",
       "   clicks  ad_description_len  headline1_len  headline2_len  impression_share  \\\n",
       "0    15.0                11.0            2.0            5.0         16.279669   \n",
       "1     8.0                13.0            2.0            2.0         16.279669   \n",
       "\n",
       "     cost  n_ads  \n",
       "0  3393.0      1  \n",
       "1  1817.0      1  "
      ]
     },
     "execution_count": 2,
     "metadata": {},
     "output_type": "execute_result"
    }
   ],
   "source": [
    "df = pd.read_csv('Train.csv')\n",
    "submission = pd.read_csv('SampleSubmission.csv')\n",
    "\n",
    "# we drop records where clicks is NaN\n",
    "df = df.dropna(subset=['clicks'])\n",
    "df.reset_index(drop=True, inplace=True)\n",
    "\n",
    "# My interpretation is that each row represents a different ad.\n",
    "# This feature will later represent the number (n) of ads in a given day for a given ID.\n",
    "df['n_ads'] = 1\n",
    "\n",
    "# Retain only the relevant features\n",
    "df = df[['ID', 'date','ad_type','impressions', 'clicks', 'ad_description_len', 'headline1_len', 'headline2_len',\n",
    "         'impression_share', 'cost', 'n_ads']]\n",
    "\n",
    "df = df.sort_values(by=['ID', 'date']).reset_index(drop=True)\n",
    "\n",
    "df.head(2)"
   ]
  },
  {
   "cell_type": "code",
   "execution_count": 3,
   "id": "6b2f094a-3e90-485b-80b8-f2ee54739f60",
   "metadata": {},
   "outputs": [],
   "source": [
    "# The objective is to predict the sum of clicks an ID will get in the future, so we group the data by date and ID.\n",
    "grouped_df = df.groupby(['date', 'ID']).agg({\n",
    "    'impressions': ['sum'],\n",
    "    'clicks': ['sum'],\n",
    "    'ad_description_len': ['sum'],\n",
    "    'headline1_len': ['sum'],\n",
    "    'headline2_len': ['sum'],\n",
    "    'impression_share': ['sum'],\n",
    "    'cost': ['sum'],\n",
    "    'n_ads': ['sum'],\n",
    "    'ad_type': ['nunique']\n",
    "}).reset_index()\n",
    "\n",
    "# In case we want to test other methods of aggregation\n",
    "grouped_df.columns = ['_'.join(col).strip() if col[1] else col[0] for col in grouped_df.columns.values]\n",
    "\n",
    "# Keep our target with the original name to facilitate later tasks\n",
    "grouped_df.rename(columns={'clicks_sum': 'clicks'}, inplace=True)\n",
    "\n",
    "grouped_df['date'] = pd.to_datetime(grouped_df['date'])"
   ]
  },
  {
   "cell_type": "markdown",
   "id": "beff055f-719a-42d1-bcf1-c5c0f853aaad",
   "metadata": {},
   "source": [
    "**Note**: We could have grouped the data with df.groupby(['date', 'ID', 'ad_type']), which would provide us with more data to work with. Although models generally benefit from having more data for training, this increased granularity has drawbacks, such as fewer or inconsistent data for some combinations of ID and ad_type. Therefore, I decided to group by date and ID. To retain the ad_type information, which is important, we are grouping by the unique ad_types per ID per day, so we know how many different types of ads a given ID was running on a particular day."
   ]
  },
  {
   "cell_type": "markdown",
   "id": "91ff7c7c-332c-47f1-8e17-72d28b184e39",
   "metadata": {},
   "source": [
    "## IDs and Dates"
   ]
  },
  {
   "attachments": {
    "ca08a124-9f67-4c85-8ab0-f352874979a3.png": {
     "image/png": "[encoded data removed]"
    }
   },
   "cell_type": "markdown",
   "id": "ba74988a-098c-48d6-92e6-47e0e20e2dc4",
   "metadata": {},
   "source": [
    "![image_1.png](attachment:ca08a124-9f67-4c85-8ab0-f352874979a3.png)"
   ]
  },
  {
   "cell_type": "markdown",
   "id": "86389ff7-c8fb-46ea-a697-efae7a9fb9b3",
   "metadata": {},
   "source": [
    "Some IDs have a gap between their last recorded activity and the date requested in the submission file. All these IDs will be stored in a Python list called **list_ids** for later use"
   ]
  },
  {
   "cell_type": "code",
   "execution_count": 4,
   "id": "db70093b-e77c-4cc3-ad63-7a4f5ac4d363",
   "metadata": {},
   "outputs": [
    {
     "data": {
      "text/html": [
       "<div>\n",
       "<style scoped>\n",
       "    .dataframe tbody tr th:only-of-type {\n",
       "        vertical-align: middle;\n",
       "    }\n",
       "\n",
       "    .dataframe tbody tr th {\n",
       "        vertical-align: top;\n",
       "    }\n",
       "\n",
       "    .dataframe thead th {\n",
       "        text-align: right;\n",
       "    }\n",
       "</style>\n",
       "<table border=\"1\" class=\"dataframe\">\n",
       "  <thead>\n",
       "    <tr style=\"text-align: right;\">\n",
       "      <th></th>\n",
       "      <th>ID</th>\n",
       "      <th>clicks</th>\n",
       "      <th>year</th>\n",
       "      <th>month</th>\n",
       "      <th>day</th>\n",
       "      <th>date</th>\n",
       "      <th>last_date</th>\n",
       "      <th>date_diff</th>\n",
       "    </tr>\n",
       "  </thead>\n",
       "  <tbody>\n",
       "    <tr>\n",
       "      <th>26</th>\n",
       "      <td>ID_608a6897d96a507cd36c935d</td>\n",
       "      <td>0</td>\n",
       "      <td>2024</td>\n",
       "      <td>02</td>\n",
       "      <td>21</td>\n",
       "      <td>2024-02-21</td>\n",
       "      <td>2023-12-21</td>\n",
       "      <td>62</td>\n",
       "    </tr>\n",
       "    <tr>\n",
       "      <th>43</th>\n",
       "      <td>ID_618a50e0500d9413097ccd75</td>\n",
       "      <td>0</td>\n",
       "      <td>2024</td>\n",
       "      <td>02</td>\n",
       "      <td>21</td>\n",
       "      <td>2024-02-21</td>\n",
       "      <td>2024-02-06</td>\n",
       "      <td>15</td>\n",
       "    </tr>\n",
       "  </tbody>\n",
       "</table>\n",
       "</div>"
      ],
      "text/plain": [
       "                             ID  clicks  year month day       date  last_date  \\\n",
       "26  ID_608a6897d96a507cd36c935d       0  2024    02  21 2024-02-21 2023-12-21   \n",
       "43  ID_618a50e0500d9413097ccd75       0  2024    02  21 2024-02-21 2024-02-06   \n",
       "\n",
       "    date_diff  \n",
       "26         62  \n",
       "43         15  "
      ]
     },
     "execution_count": 4,
     "metadata": {},
     "output_type": "execute_result"
    }
   ],
   "source": [
    "# Get the last recorded date for each ID from the original DataFrame\n",
    "last_dates = df.groupby('ID')['date'].max().reset_index()\n",
    "\n",
    "# Rename the columns for clarity\n",
    "last_dates.columns = ['ID', 'last_date']\n",
    "\n",
    "last_dates['last_date'] = pd.to_datetime(last_dates['last_date'])\n",
    "\n",
    "# Create a copy of the submission DataFrame to avoid modifying the original\n",
    "sub = submission.copy()\n",
    "\n",
    "# Extract the year, month, and day from the ID column in the submission DataFrame\n",
    "sub[['year', 'month', 'day']] = sub['ID'].str.extract(r'_(\\d{4})_(\\d{2})_(\\d{2})')\n",
    "\n",
    "# Remove the extracted date part from the ID column\n",
    "sub['ID'] = sub['ID'].str.replace(r'(_\\d{4}_\\d{2}_\\d{2})$', '', regex=True)\n",
    "\n",
    "# Combine the extracted year, month, and day into a single date column\n",
    "sub['date'] = pd.to_datetime(sub[['year', 'month', 'day']])\n",
    "\n",
    "# Drop duplicate IDs, keeping the first occurrence, to get unique IDs with their respective early dates\n",
    "unique_df = sub.drop_duplicates(subset='ID', keep='first').copy()\n",
    "\n",
    "unique_df['date'] = pd.to_datetime(unique_df['date'])\n",
    "\n",
    "# Merge the unique_df with last_dates to get the last recorded date for each ID\n",
    "merge_lastdates_unique = unique_df.merge(last_dates, on='ID')\n",
    "\n",
    "# Calculate the difference in days between the submission date and the last recorded date\n",
    "merge_lastdates_unique['date_diff'] = (merge_lastdates_unique['date'] - merge_lastdates_unique['last_date']).dt.days\n",
    "\n",
    "# Get the IDs where the date difference is greater than 8 days\n",
    "list_ids = merge_lastdates_unique[merge_lastdates_unique['date_diff'] > 8]\n",
    "\n",
    "list_ids.head(2)"
   ]
  },
  {
   "cell_type": "markdown",
   "id": "34b40a3d-1535-4324-b36f-930caace7501",
   "metadata": {},
   "source": [
    "Analyzing the submission DataFrame gives us the insight that there are many common dates among the IDs. The date 2024-02-21 seems to be the cutoff line between active and inactive IDs."
   ]
  },
  {
   "cell_type": "code",
   "execution_count": 5,
   "id": "e7b9a42e-c155-4591-b194-08284674603d",
   "metadata": {},
   "outputs": [
    {
     "data": {
      "text/plain": [
       "False"
      ]
     },
     "execution_count": 5,
     "metadata": {},
     "output_type": "execute_result"
    }
   ],
   "source": [
    "# Find the earliest date for each ID in the submission DataFrame\n",
    "sub_min_dates = sub.loc[sub.groupby('ID')['date'].idxmin()]\n",
    "\n",
    "# Count the occurrences of each date\n",
    "date_counts = sub_min_dates['date'].value_counts()\n",
    "\n",
    "# Define the reference date for comparison\n",
    "reference_date = pd.to_datetime('2024-02-21')\n",
    "\n",
    "# Check if there are any dates later than the reference date\n",
    "any_later_date = (date_counts.index > reference_date).any()\n",
    "any_later_date"
   ]
  },
  {
   "cell_type": "markdown",
   "id": "325e8ea0-5d1f-4907-98c2-06106da6183c",
   "metadata": {},
   "source": [
    "Let's differentiate the active IDs from the inactive ones."
   ]
  },
  {
   "cell_type": "code",
   "execution_count": 6,
   "id": "904414ab-bc22-4f97-945a-42a3c4566d7c",
   "metadata": {},
   "outputs": [
    {
     "name": "stdout",
     "output_type": "stream",
     "text": [
      "96\n",
      "89\n"
     ]
    }
   ],
   "source": [
    "#Active IDs\n",
    "ids_with_2024_02_21 = sub_min_dates[sub_min_dates['date'] == reference_date]['ID'].unique().tolist()\n",
    "\n",
    "#Inactive IDs\n",
    "ids_with_other_dates = sub_min_dates[sub_min_dates['date'] != reference_date]['ID'].unique().tolist()\n",
    "\n",
    "print(len(ids_with_2024_02_21))\n",
    "print(len(ids_with_other_dates))"
   ]
  },
  {
   "cell_type": "code",
   "execution_count": 7,
   "id": "d5d9fc1b-e227-425e-a7c4-446cfbef3a77",
   "metadata": {},
   "outputs": [
    {
     "name": "stdout",
     "output_type": "stream",
     "text": [
      "33\n",
      "56\n"
     ]
    }
   ],
   "source": [
    "# Let's divide the inactive IDs into two groups: those that went inactive in 2023 or earlier, and those that went inactive in 2024.\n",
    "other_dates_df = sub_min_dates[sub_min_dates['ID'].isin(ids_with_other_dates)]\n",
    "\n",
    "date_threshold = pd.to_datetime('2024-01-01')\n",
    "ids_with_2024 = other_dates_df[other_dates_df['date'] >= date_threshold]['ID'].unique().tolist()\n",
    "ids_with_2023 = other_dates_df[other_dates_df['date'] < date_threshold]['ID'].unique().tolist()\n",
    "\n",
    "print(len(ids_with_2024))\n",
    "print(len(ids_with_2023))"
   ]
  },
  {
   "cell_type": "code",
   "execution_count": 8,
   "id": "4575a167-1f53-4d0d-9e5b-2ecd67157d86",
   "metadata": {},
   "outputs": [
    {
     "name": "stdout",
     "output_type": "stream",
     "text": [
      "(45462, 11)\n",
      "(8028, 11)\n",
      "(14078, 11)\n"
     ]
    }
   ],
   "source": [
    "# Finally, create separate DataFrames for each group\n",
    "\n",
    "# Active group\n",
    "grouped_df_2024_02_21 = grouped_df[grouped_df['ID'].isin(ids_with_2024_02_21)]\n",
    "\n",
    "# Inactive in 2024\n",
    "grouped_df_ids_with_2024 = grouped_df[grouped_df['ID'].isin(ids_with_2024)]\n",
    "\n",
    "# Inactive in 2023\n",
    "grouped_df_ids_with_2023 = grouped_df[grouped_df['ID'].isin(ids_with_2023)]\n",
    "\n",
    "print(grouped_df_2024_02_21.shape)\n",
    "print(grouped_df_ids_with_2024.shape)\n",
    "print(grouped_df_ids_with_2023.shape)"
   ]
  },
  {
   "cell_type": "markdown",
   "id": "aa53ce32-7771-49f6-b5a2-9f02bc6fdeab",
   "metadata": {},
   "source": [
    "## Forecast Based on Groups"
   ]
  },
  {
   "attachments": {
    "ac4400e3-1fa1-4850-aaa0-e37ed5b72dff.png": {
     "image/png": "[encoded data removed]"
    }
   },
   "cell_type": "markdown",
   "id": "f323395c-605c-4136-bb5d-35ef1b869a75",
   "metadata": {},
   "source": [
    "![image_2.png](attachment:ac4400e3-1fa1-4850-aaa0-e37ed5b72dff.png)"
   ]
  },
  {
   "cell_type": "markdown",
   "id": "1a74cd26-7038-47c6-aa02-af73b3d968e2",
   "metadata": {},
   "source": [
    "**Group 1** consists of the active IDs. Each ID has the features clicks, impressions, impression_share, and cost classified as stationary, non-stationary, not enough data, or constant. While there are four types of classification, what really matters here is whether a given time series is stationary or not."
   ]
  },
  {
   "cell_type": "code",
   "execution_count": null,
   "id": "3d19a208-4101-4950-8cd9-5d42f823404b",
   "metadata": {},
   "outputs": [],
   "source": [
    "%%time\n",
    "\n",
    "def classify_series(x):\n",
    "    if len(x) < 10:\n",
    "        return \"not enough data\"\n",
    "    if x.nunique() == 1:\n",
    "        return \"Constant\" \n",
    "    result = adfuller(x.dropna())\n",
    "    p_value = result[1]\n",
    "    if p_value < 0.05:\n",
    "        return \"stationary\"\n",
    "    else:\n",
    "        return \"Non stationary\"\n",
    "\n",
    "grouped_df_2024_02_21 = grouped_df_2024_02_21.sort_values(by=['ID', 'date']).reset_index(drop=True)\n",
    "grouped_df_2024_02_21['classification_clicks'] = grouped_df_2024_02_21.groupby(['ID'])['clicks'].transform(classify_series)\n",
    "grouped_df_2024_02_21['classification_impressions_sum'] = grouped_df_2024_02_21.groupby(['ID'])['impressions_sum'].transform(classify_series)\n",
    "grouped_df_2024_02_21['classification_impression_share_sum'] = grouped_df_2024_02_21.groupby(['ID'])['impression_share_sum'].transform(classify_series)\n",
    "grouped_df_2024_02_21['classification_cost_sum'] = grouped_df_2024_02_21.groupby(['ID'])['cost_sum'].transform(classify_series)\n",
    "\n",
    "print(grouped_df_2024_02_21.shape)"
   ]
  },
  {
   "cell_type": "code",
   "execution_count": null,
   "id": "cabda1ec-8335-4600-9d43-38067685aa2f",
   "metadata": {},
   "outputs": [],
   "source": [
    "grouped_df_2024_02_21.head(2)"
   ]
  },
  {
   "cell_type": "markdown",
   "id": "7510497c-ca5f-48a2-9bc4-f12bd1ede6e1",
   "metadata": {},
   "source": [
    "Ad descriptive columns will be forecasted using a moving average. Features that received classification will be checked to determine whether they are stationary or not. If they are stationary, then SARIMA is used; otherwise, a moving average is used.\n",
    "\n",
    "The forecast functions dynamically so that each new row is used in the calculation of the next row, and so on.\n",
    "\n",
    "The feature 'is_forecast' is created to help us identify the rows that were created in the process."
   ]
  },
  {
   "cell_type": "code",
   "execution_count": null,
   "id": "c307f7f4-fcb3-43ec-ab66-3b8db8dee281",
   "metadata": {},
   "outputs": [],
   "source": [
    "%%time\n",
    "\n",
    "# Columns to be forecasted that require classification check\n",
    "forecast_columns_with_classification = ['impressions_sum', 'clicks', 'impression_share_sum', 'cost_sum']\n",
    "\n",
    "# Columns to be forecasted without requiring classification check\n",
    "forecast_columns_without_classification = ['ad_description_len_sum', 'headline1_len_sum', 'headline2_len_sum', 'n_ads_sum', 'ad_type_nunique']\n",
    "\n",
    "def forecast_arima(series, forecast_horizon):\n",
    "    \"\"\"\n",
    "    Forecasts the given time series using ARIMA model.\n",
    "    \n",
    "    Parameters:\n",
    "    series (pd.Series): The time series data to forecast.\n",
    "    forecast_horizon (int): The number of periods to forecast into the future.\n",
    "    \n",
    "    Returns:\n",
    "    np.ndarray: Forecasted values for the specified horizon.\n",
    "    \"\"\"\n",
    "    \n",
    "    # Ensure the series index is in datetime format\n",
    "    series.index = pd.to_datetime(series.index)\n",
    "\n",
    "    # Ensure the series has a daily frequency\n",
    "    if not series.index.freq:\n",
    "        series = series.asfreq('D')\n",
    "\n",
    "    # Fill missing values\n",
    "    series.ffill(inplace=True)\n",
    "    series.bfill(inplace=True)\n",
    "\n",
    "    # Fit ARIMA model and forecast\n",
    "    model = auto_arima(series, seasonal=True, stepwise=True, suppress_warnings=True, error_action=\"ignore\", trace=True, m=7)\n",
    "    forecast = model.predict(n_periods=forecast_horizon)\n",
    "    \n",
    "    return forecast\n",
    "\n",
    "def dynamic_forecast_moving_average(series, window, forecast_horizon):\n",
    "    \"\"\"\n",
    "    Forecasts the given time series using moving average dynamically.\n",
    "    \n",
    "    Parameters:\n",
    "    series (pd.Series): The time series data to forecast.\n",
    "    window (int): The window size for the moving average.\n",
    "    forecast_horizon (int): The number of periods to forecast into the future.\n",
    "    \n",
    "    Returns:\n",
    "    list: Forecasted values for the specified horizon.\n",
    "    \"\"\"\n",
    "    values = list(series.dropna())\n",
    "\n",
    "     # Handle empty series\n",
    "    if not values:\n",
    "        return [np.nan] * forecast_horizon\n",
    "\n",
    "    # Generate forecasts dynamically\n",
    "    for _ in range(forecast_horizon):\n",
    "        moving_avg = np.mean(values[-window:]) if len(values) >= window else np.mean(values)\n",
    "        values.append(moving_avg)\n",
    "        \n",
    "    return values[-forecast_horizon:]\n",
    "\n",
    "def add_dynamic_forecasts(group, forecast_horizon, window):\n",
    "    \"\"\"\n",
    "    Adds dynamic forecasts to the group DataFrame.\n",
    "    \n",
    "    Parameters:\n",
    "    group (pd.DataFrame): The data group to forecast.\n",
    "    forecast_horizon (int): The number of periods to forecast into the future.\n",
    "    window (int): The window size for the moving average.\n",
    "    \n",
    "    Returns:\n",
    "    pd.DataFrame: DataFrame containing the original data and forecasted values.\n",
    "    \"\"\"\n",
    "    \n",
    "    group = group.set_index('date')\n",
    "    group.index = pd.to_datetime(group.index)\n",
    "    group = group.asfreq('D', method='ffill')\n",
    "\n",
    "    last_date = group.index.max()\n",
    "    forecast_dates = pd.date_range(start=last_date, periods=forecast_horizon + 1, freq='D')[1:]\n",
    "    forecast_data = {}\n",
    "\n",
    "    # Forecast columns with classification\n",
    "    for col in forecast_columns_with_classification:\n",
    "        classification_col = f\"classification_{col}\"\n",
    "        if group[classification_col].iloc[0] == \"stationary\":\n",
    "            forecast_data[col] = forecast_arima(group[col].dropna(), forecast_horizon)\n",
    "        else:\n",
    "            forecast_data[col] = dynamic_forecast_moving_average(group[col], window, forecast_horizon)\n",
    "\n",
    "    # Forecast columns without classification\n",
    "    for col in forecast_columns_without_classification:\n",
    "        forecast_data[col] = dynamic_forecast_moving_average(group[col], window, forecast_horizon)\n",
    "\n",
    "    forecast_df = pd.DataFrame(forecast_data, index=forecast_dates)\n",
    "    forecast_df['ID'] = group['ID'].iloc[0]\n",
    "    forecast_df['is_forecast'] = True\n",
    "\n",
    "    group = group.reset_index()\n",
    "    forecast_df = forecast_df.reset_index().rename(columns={'index': 'date'})\n",
    "\n",
    "    return forecast_df\n",
    "\n",
    "# Prepare to forecast data for all IDs in this group\n",
    "all_data = []\n",
    "window_size = 13\n",
    "forecast_horizon = 16\n",
    "\n",
    "# Loop through each group by ID\n",
    "for name, group in grouped_df_2024_02_21.groupby(['ID']):\n",
    "    forecast_df = add_dynamic_forecasts(group, forecast_horizon, window_size)\n",
    "    all_data.append(pd.concat([group.reset_index(drop=True), forecast_df]))\n",
    "\n",
    "# Combine all forecasted data and original data\n",
    "grouped_df_2024_02_21 = pd.concat(all_data).sort_values(by=['ID', 'date'])\n",
    "grouped_df_2024_02_21['is_forecast'] = grouped_df_2024_02_21['is_forecast'].fillna(False)\n",
    "print(grouped_df_2024_02_21.shape)\n",
    "\n",
    "#Wall time: 1h 49min 49s"
   ]
  },
  {
   "cell_type": "code",
   "execution_count": null,
   "id": "a0ca2a84-c349-41f0-a6f8-8c3dc3e5d677",
   "metadata": {},
   "outputs": [],
   "source": [
    "# Drop classification columns\n",
    "grouped_df_2024_02_21.drop(columns=[ 'classification_clicks', 'classification_impressions_sum', 'classification_impression_share_sum',\n",
    "       'classification_cost_sum'], inplace=True)"
   ]
  },
  {
   "cell_type": "code",
   "execution_count": null,
   "id": "79e6158b-6f19-48fb-b6c2-01b1d51f524c",
   "metadata": {},
   "outputs": [],
   "source": [
    "# grouped_df_2024_02_21.to_csv('gg_2024_02_21.csv', index=False)"
   ]
  },
  {
   "cell_type": "markdown",
   "id": "b8b98d63-732f-40c2-95f9-b796ee90d0fd",
   "metadata": {},
   "source": [
    "For **Groups 2 and 3**, the descriptive ad features use a moving average, and the other features use a decreasing rate. This decision was made after analyzing the historical pattern of the clients. When a client is near the end of activity, their metrics start to decrease.\n",
    "\n",
    "We apply different decreasing rates for Groups 2 and 3 because the inactive group of 2024 shows higher metrics at the beginning of the year, so consequently, they will also take a longer time to decrease.\n",
    "\n",
    "The functions below for groups 2 and 3 are very similar to the one used for Group 1."
   ]
  },
  {
   "cell_type": "code",
   "execution_count": 9,
   "id": "2775f1ef-7b23-4de1-a260-dccbd2192e30",
   "metadata": {},
   "outputs": [
    {
     "name": "stdout",
     "output_type": "stream",
     "text": [
      "(14918, 12)\n"
     ]
    },
    {
     "name": "stderr",
     "output_type": "stream",
     "text": [
      "C:\\Users\\yan.teixeira\\AppData\\Local\\Temp\\ipykernel_21304\\3879434163.py:64: FutureWarning: Downcasting object dtype arrays on .fillna, .ffill, .bfill is deprecated and will change in a future version. Call result.infer_objects(copy=False) instead. To opt-in to the future behavior, set `pd.set_option('future.no_silent_downcasting', True)`\n",
      "  grouped_df_ids_with_2023['is_forecast'] = grouped_df_ids_with_2023['is_forecast'].fillna(False)\n"
     ]
    }
   ],
   "source": [
    "#Group 2 -> Inactives from 2023\n",
    "\n",
    "forecast_columns_moving_average = ['ad_description_len_sum', 'headline1_len_sum', 'headline2_len_sum', 'n_ads_sum', 'ad_type_nunique']\n",
    "forecast_columns_decreasing = ['impressions_sum', 'clicks', 'impression_share_sum', 'cost_sum']\n",
    "\n",
    "def dynamic_forecast_moving_average(series, window, forecast_horizon):\n",
    "    values = list(series.dropna())\n",
    "    if not values:\n",
    "        return [np.nan] * forecast_horizon\n",
    "    for _ in range(forecast_horizon):\n",
    "        moving_avg = np.mean(values[-window:]) if len(values) >= window else np.mean(values)\n",
    "        values.append(moving_avg)\n",
    "    return values[-forecast_horizon:]\n",
    "\n",
    "def dynamic_forecast_decreasing(last_value, forecast_horizon):\n",
    "    values = []\n",
    "    current_value = last_value\n",
    "\n",
    "    for day in range(forecast_horizon):\n",
    "        if day < 3:\n",
    "            decrement = current_value * 0.5\n",
    "        else:\n",
    "            decrement = current_value * 0.15\n",
    "        \n",
    "        current_value -= decrement\n",
    "        values.append(current_value)\n",
    "    \n",
    "    return values\n",
    "\n",
    "def add_dynamic_forecasts(group, forecast_horizon, window):\n",
    "    group = group.set_index('date')\n",
    "    group.index = pd.to_datetime(group.index)\n",
    "    group = group.asfreq('D', method='ffill')\n",
    "\n",
    "    last_date = group.index.max()\n",
    "    forecast_dates = pd.date_range(start=last_date, periods=forecast_horizon + 1, freq='D')[1:]\n",
    "    forecast_data = {}\n",
    "\n",
    "    for col in forecast_columns_moving_average:\n",
    "        forecast_data[col] = dynamic_forecast_moving_average(group[col], window, forecast_horizon)\n",
    "\n",
    "    for col in forecast_columns_decreasing:\n",
    "        last_value = group[col].iloc[-1]\n",
    "        forecast_data[col] = dynamic_forecast_decreasing(last_value, forecast_horizon)\n",
    "\n",
    "    forecast_df = pd.DataFrame(forecast_data, index=forecast_dates)\n",
    "    forecast_df['ID'] = group['ID'].iloc[0]\n",
    "    forecast_df['is_forecast'] = True\n",
    "\n",
    "    group = group.reset_index()\n",
    "    forecast_df = forecast_df.reset_index().rename(columns={'index': 'date'})\n",
    "\n",
    "    return forecast_df\n",
    "\n",
    "all_data = []\n",
    "window_size = 13\n",
    "forecast_horizon = 15\n",
    "\n",
    "for name, group in grouped_df_ids_with_2023.groupby(['ID']):\n",
    "    forecast_df = add_dynamic_forecasts(group, forecast_horizon, window_size)\n",
    "    all_data.append(pd.concat([group.reset_index(drop=True), forecast_df]))\n",
    "\n",
    "grouped_df_ids_with_2023 = pd.concat(all_data).sort_values(by=['ID', 'date'])\n",
    "grouped_df_ids_with_2023['is_forecast'] = grouped_df_ids_with_2023['is_forecast'].fillna(False)\n",
    "print(grouped_df_ids_with_2023.shape)"
   ]
  },
  {
   "cell_type": "code",
   "execution_count": 10,
   "id": "eefde08c-6a0d-49a4-b36a-0032734b792d",
   "metadata": {},
   "outputs": [
    {
     "name": "stdout",
     "output_type": "stream",
     "text": [
      "(8523, 12)\n"
     ]
    },
    {
     "name": "stderr",
     "output_type": "stream",
     "text": [
      "C:\\Users\\yan.teixeira\\AppData\\Local\\Temp\\ipykernel_21304\\2815449835.py:64: FutureWarning: Downcasting object dtype arrays on .fillna, .ffill, .bfill is deprecated and will change in a future version. Call result.infer_objects(copy=False) instead. To opt-in to the future behavior, set `pd.set_option('future.no_silent_downcasting', True)`\n",
      "  grouped_df_ids_with_2024['is_forecast'] = grouped_df_ids_with_2024['is_forecast'].fillna(False)\n"
     ]
    }
   ],
   "source": [
    "#Group 3 -> Inactives from 2024\n",
    "\n",
    "forecast_columns_moving_average = ['ad_description_len_sum', 'headline1_len_sum', 'headline2_len_sum', 'n_ads_sum', 'ad_type_nunique']\n",
    "forecast_columns_decreasing = ['impressions_sum', 'clicks', 'impression_share_sum', 'cost_sum']\n",
    "\n",
    "def dynamic_forecast_moving_average(series, window, forecast_horizon):\n",
    "    values = list(series.dropna())\n",
    "    if not values:\n",
    "        return [np.nan] * forecast_horizon\n",
    "    for _ in range(forecast_horizon):\n",
    "        moving_avg = np.mean(values[-window:]) if len(values) >= window else np.mean(values)\n",
    "        values.append(moving_avg)\n",
    "    return values[-forecast_horizon:]\n",
    "\n",
    "def dynamic_forecast_decreasing(last_value, forecast_horizon):\n",
    "    values = []\n",
    "    current_value = last_value\n",
    "\n",
    "    for day in range(forecast_horizon):\n",
    "        if day < 8:\n",
    "            decrement = current_value * 0.01\n",
    "        else:\n",
    "            decrement = current_value * 0.1\n",
    "        \n",
    "        current_value -= decrement\n",
    "        values.append(current_value)\n",
    "    \n",
    "    return values\n",
    "\n",
    "def add_dynamic_forecasts(group, forecast_horizon, window):\n",
    "    group = group.set_index('date')\n",
    "    group.index = pd.to_datetime(group.index)\n",
    "    group = group.asfreq('D', method='ffill')\n",
    "\n",
    "    last_date = group.index.max()\n",
    "    forecast_dates = pd.date_range(start=last_date, periods=forecast_horizon + 1, freq='D')[1:]\n",
    "    forecast_data = {}\n",
    "\n",
    "    for col in forecast_columns_moving_average:\n",
    "        forecast_data[col] = dynamic_forecast_moving_average(group[col], window, forecast_horizon)\n",
    "\n",
    "    for col in forecast_columns_decreasing:\n",
    "        last_value = group[col].iloc[-1]\n",
    "        forecast_data[col] = dynamic_forecast_decreasing(last_value, forecast_horizon)\n",
    "\n",
    "    forecast_df = pd.DataFrame(forecast_data, index=forecast_dates)\n",
    "    forecast_df['ID'] = group['ID'].iloc[0]\n",
    "    forecast_df['is_forecast'] = True\n",
    "\n",
    "    group = group.reset_index()\n",
    "    forecast_df = forecast_df.reset_index().rename(columns={'index': 'date'})\n",
    "\n",
    "    return forecast_df\n",
    "\n",
    "all_data = []\n",
    "window_size = 13\n",
    "forecast_horizon = 15\n",
    "\n",
    "for name, group in grouped_df_ids_with_2024.groupby(['ID']):\n",
    "    forecast_df = add_dynamic_forecasts(group, forecast_horizon, window_size)\n",
    "    all_data.append(pd.concat([group.reset_index(drop=True), forecast_df]))\n",
    "\n",
    "grouped_df_ids_with_2024 = pd.concat(all_data).sort_values(by=['ID', 'date'])\n",
    "grouped_df_ids_with_2024['is_forecast'] = grouped_df_ids_with_2024['is_forecast'].fillna(False)\n",
    "print(grouped_df_ids_with_2024.shape)"
   ]
  },
  {
   "cell_type": "code",
   "execution_count": 11,
   "id": "9d724c6c-622c-4557-bf28-15fc35cae452",
   "metadata": {},
   "outputs": [],
   "source": [
    "#concat groups 2 and 3 in the same dataframe\n",
    "grouped_df_other_dates = pd.concat([grouped_df_ids_with_2023, grouped_df_ids_with_2024])\n",
    "grouped_df_other_dates.reset_index(drop=True, inplace=True)"
   ]
  },
  {
   "cell_type": "markdown",
   "id": "ad11a684-5aff-458b-ab0d-fd2e940de169",
   "metadata": {},
   "source": [
    "For Groups 2 and 3, we add to the to the future training data the forecasted data that is before the first date asked for the submission file."
   ]
  },
  {
   "cell_type": "code",
   "execution_count": 12,
   "id": "7b45eff0-f2b0-4d72-9b06-526331be24a1",
   "metadata": {},
   "outputs": [],
   "source": [
    "id_to_min_date = sub_min_dates.set_index('ID')['date'].to_dict()\n",
    "\n",
    "def set_is_forecast(row):\n",
    "    \"\"\"\n",
    "    Determine if a row should be marked as forecasted or not based on the minimum date for its ID.\n",
    "    \n",
    "    Parameters:\n",
    "    row (pd.Series): A row from the DataFrame being processed.\n",
    "    \n",
    "    Returns:\n",
    "    bool: True if the row's date is on or after the minimum date for its ID; False otherwise.\n",
    "    \"\"\"\n",
    "\n",
    "    # Get the minimum date for the given ID from the dictionary\n",
    "    min_date = id_to_min_date.get(row['ID'], None)\n",
    "\n",
    "    # If there is a minimum date and the row's date is earlier than the minimum date, return False\n",
    "    if min_date and row['date'] < min_date:\n",
    "        return False\n",
    "    return True\n",
    "\n",
    "grouped_df_other_dates['is_forecast'] = grouped_df_other_dates.apply(set_is_forecast, axis=1)"
   ]
  },
  {
   "cell_type": "markdown",
   "id": "8fbb12f1-ae23-4ada-849e-1e11ce1d98e4",
   "metadata": {},
   "source": [
    "## Final DataFrame"
   ]
  },
  {
   "cell_type": "code",
   "execution_count": 13,
   "id": "c56732d3-a8f6-4894-a9ff-dfc9359c7353",
   "metadata": {},
   "outputs": [],
   "source": [
    "# to save time we can load the files from here\n",
    "# concatenated_df = pd.read_csv('concatenated_df.csv')\n",
    "grouped_df_2024_02_21 = pd.read_csv('gg_2024_02_21.csv')"
   ]
  },
  {
   "cell_type": "code",
   "execution_count": 14,
   "id": "d146be4b-28b6-4e0b-ba84-1d62d3f1124b",
   "metadata": {},
   "outputs": [
    {
     "name": "stdout",
     "output_type": "stream",
     "text": [
      "(70439, 12)\n"
     ]
    }
   ],
   "source": [
    "# Finally we form the final dataframe by concatenat the dataframes\n",
    "concatenated_df = pd.concat([grouped_df_other_dates, grouped_df_2024_02_21])\n",
    "concatenated_df.reset_index(drop=True, inplace=True)\n",
    "# concatenated_df.to_csv('concatenated_df.csv', index=False)\n",
    "\n",
    "print(concatenated_df.shape)"
   ]
  },
  {
   "cell_type": "code",
   "execution_count": 15,
   "id": "d3d9ebcb-088f-4228-8e2c-7d7e8570d370",
   "metadata": {},
   "outputs": [],
   "source": [
    "concatenated_df = concatenated_df.sort_values(by=['ID', 'date']).reset_index(drop=True)\n",
    "concatenated_df['date'] = pd.to_datetime(concatenated_df['date'])\n",
    "\n",
    "# take the mean of each feature\n",
    "concatenated_df['impressions_mean'] = concatenated_df['impressions_sum']/concatenated_df['n_ads_sum']\n",
    "concatenated_df['ad_description_len_mean'] = concatenated_df['ad_description_len_sum']/concatenated_df['n_ads_sum']\n",
    "concatenated_df['headline1_len_mean'] = concatenated_df['headline1_len_sum']/concatenated_df['n_ads_sum']\n",
    "concatenated_df['headline2_len_mean'] = concatenated_df['headline2_len_sum']/concatenated_df['n_ads_sum']\n",
    "concatenated_df['impression_share_mean'] = concatenated_df['impression_share_sum']/concatenated_df['n_ads_sum']\n",
    "concatenated_df['cost_mean'] = concatenated_df['cost_sum']/concatenated_df['n_ads_sum']"
   ]
  },
  {
   "attachments": {
    "b523fd16-dfa9-4989-9568-222157dd4a21.png": {
     "image/png": "[encoded data removed]"
    }
   },
   "cell_type": "markdown",
   "id": "41eb3133-5b3e-432c-89e5-6a12cdff686e",
   "metadata": {},
   "source": [
    "![flow.png](attachment:b523fd16-dfa9-4989-9568-222157dd4a21.png)"
   ]
  },
  {
   "cell_type": "markdown",
   "id": "0576c841-49b7-4982-aea9-82b4a20bdf30",
   "metadata": {},
   "source": [
    "The final data transformation updates the last recorded dates for the \"gap IDs\" clients. This group refers to the IDs that have a gap between their last recorded historical data and the dates requested in the submission file. Since it was observed that once a client became active after a period of inactivity, their metrics continued as if the inactivity never happened, I decided to update the dates to be closer to the submission dates to mimic the historical pattern."
   ]
  },
  {
   "cell_type": "code",
   "execution_count": 16,
   "id": "044ec1df-1f97-4ec3-a691-574a391b4904",
   "metadata": {},
   "outputs": [],
   "source": [
    "# Merge our final DataFrame with the list_ids we created at the very beginning of this notebook\n",
    "merged_df = pd.merge(concatenated_df, list_ids[['ID', 'date']], on='ID', how='left', suffixes=('', '_new_start'))\n",
    "\n",
    "# Function to update dates\n",
    "def update_dates(row):\n",
    "    if row['is_forecast'] and pd.notna(row['date_new_start']):\n",
    "        # Calculate the offset from the first forecast date\n",
    "        offset = (row['date'] - row['first_forecast_date']).days\n",
    "        # Apply this offset to the new start date\n",
    "        return pd.to_datetime(row['date_new_start']) + pd.DateOffset(days=offset)\n",
    "    else:\n",
    "        return row['date']\n",
    "\n",
    "# Find the first forecast date for each ID\n",
    "first_forecast_dates = concatenated_df[concatenated_df['is_forecast']].groupby('ID')['date'].min().reset_index()\n",
    "first_forecast_dates.rename(columns={'date': 'first_forecast_date'}, inplace=True)\n",
    "\n",
    "# Merge this back to the main DataFrame\n",
    "merged_df = pd.merge(merged_df, first_forecast_dates, on='ID', how='left')\n",
    "\n",
    "# Apply the function to update the dates\n",
    "merged_df['date'] = merged_df.apply(update_dates, axis=1)\n",
    "\n",
    "# Drop the temporary columns\n",
    "merged_df.drop(columns=['date_new_start', 'first_forecast_date'], inplace=True)"
   ]
  },
  {
   "cell_type": "code",
   "execution_count": 17,
   "id": "fe915c0e-b6db-4c7b-a140-8b9c52f75045",
   "metadata": {},
   "outputs": [
    {
     "data": {
      "text/plain": [
       "(70439, 18)"
      ]
     },
     "execution_count": 17,
     "metadata": {},
     "output_type": "execute_result"
    }
   ],
   "source": [
    "merged_df.shape"
   ]
  },
  {
   "cell_type": "code",
   "execution_count": 18,
   "id": "a43de768-ca6b-4aef-9fe4-ed91495a1b14",
   "metadata": {},
   "outputs": [],
   "source": [
    "# Add time series features\n",
    "\n",
    "merged_df['date'] = pd.to_datetime(merged_df['date'])\n",
    "\n",
    "merged_df['day_of_week'] = merged_df['date'].dt.dayofweek\n",
    "merged_df['day'] = merged_df['date'].dt.day\n",
    "merged_df['month'] = merged_df['date'].dt.month\n",
    "merged_df['year'] = merged_df['date'].dt.year\n",
    "merged_df['week_of_year'] = merged_df['date'].dt.isocalendar().week\n",
    "\n",
    "merged_df['is_weekend'] = merged_df['date'].dt.weekday.isin([5, 6]).astype(int)\n",
    "merged_df['is_month_start'] = merged_df['date'].dt.is_month_start.astype(int)\n",
    "merged_df['is_month_end'] = merged_df['date'].dt.is_month_end.astype(int)\n",
    "\n",
    "# Add interaction features\n",
    "merged_df['ad_lenght_sum'] = merged_df['ad_description_len_sum'] + merged_df['headline1_len_sum'] + merged_df['headline2_len_sum']\n",
    "merged_df['cost_eff_sum'] = merged_df['cost_sum']/merged_df['impressions_sum']"
   ]
  },
  {
   "cell_type": "markdown",
   "id": "e80a0930-db50-450e-8967-a4b112ba0602",
   "metadata": {},
   "source": [
    "The interaction between cost, impressions, and clicks is complex, so we add another feature to help the model. The new feature will act as a kind of trend, indicating whether the cost and impressions values are greater than their lags.\n",
    "\n",
    "In order to create the lag features, we will take care to consider that we have different IDs with different time series, and that these time series might have gaps."
   ]
  },
  {
   "cell_type": "code",
   "execution_count": 19,
   "id": "ab9380e6-7a97-427b-95d2-fc4603b7cc48",
   "metadata": {},
   "outputs": [
    {
     "name": "stdout",
     "output_type": "stream",
     "text": [
      "CPU times: total: 1.22 s\n",
      "Wall time: 1.43 s\n"
     ]
    }
   ],
   "source": [
    "%%time\n",
    "\n",
    "merged_df.sort_values(by='date', inplace=True)\n",
    "\n",
    "columns_to_lag = ['impressions_sum', 'cost_sum', 'impressions_mean', 'cost_mean']\n",
    "\n",
    "lags = [1]\n",
    "\n",
    "# Create a helper column to detect gaps\n",
    "merged_df['prev_date'] = merged_df.groupby('ID')['date'].shift(1)\n",
    "merged_df['date_diff'] = (merged_df['date'] - merged_df['prev_date']).dt.days\n",
    "\n",
    "for lag in lags:\n",
    "    for column in columns_to_lag:\n",
    "        # Calculate the lagged values\n",
    "        merged_df[f'{column}_lag_{lag}'] = merged_df.groupby('ID')[column].shift(lag)\n",
    "        \n",
    "        # If there is a gap, set the lagged value to NaN\n",
    "        merged_df.loc[merged_df['date_diff'] != 1, f'{column}_lag_{lag}'] = pd.NA\n",
    "\n",
    "# Drop the helper columns as they are no longer needed\n",
    "merged_df.drop(columns=['prev_date', 'date_diff'], inplace=True)\n",
    "\n",
    "\n",
    "def determine_trend_mean(row):\n",
    "    if pd.isna(row['impressions_sum_lag_1']) or pd.isna(row['cost_sum_lag_1']):\n",
    "        return 'diverge'     \n",
    "    if (row['impressions_mean'] > row['impressions_mean_lag_1']) and (row['cost_mean'] > row['cost_mean_lag_1']):\n",
    "        return 'both_up'\n",
    "    elif (row['impressions_mean'] < row['impressions_mean_lag_1']) and (row['cost_mean'] < row['cost_mean_lag_1']):\n",
    "        return 'both_down'\n",
    "    elif (row['impressions_mean'] < row['impressions_mean_lag_1']) and (row['cost_mean'] > row['cost_mean_lag_1']):\n",
    "        return 'cost_up'\n",
    "    elif (row['impressions_mean'] > row['impressions_mean_lag_1']) and (row['cost_mean'] < row['cost_mean_lag_1']):\n",
    "        return 'imp_up'\n",
    "    else:\n",
    "        return 'diverge'\n",
    "\n",
    "merged_df['trend_mean'] = merged_df.apply(determine_trend_mean, axis=1)"
   ]
  },
  {
   "cell_type": "code",
   "execution_count": 20,
   "id": "9be023e1-0d48-474d-a501-09278b927265",
   "metadata": {},
   "outputs": [],
   "source": [
    "# With all set, now we create the train and test data\n",
    "train = merged_df[merged_df['is_forecast'] == False]\n",
    "test = merged_df[merged_df['is_forecast'] == True]"
   ]
  },
  {
   "cell_type": "markdown",
   "id": "b2a00fc9-a5f8-4089-9ef7-38e2a2e50b34",
   "metadata": {},
   "source": [
    "## Preparation"
   ]
  },
  {
   "cell_type": "code",
   "execution_count": 21,
   "id": "1518db0c-bcfd-4248-bcb4-d4e8ecb0b7dc",
   "metadata": {},
   "outputs": [],
   "source": [
    "# Let's ensure that the test data only includes the dates requested in the submission file.\n",
    "sub = submission.copy()\n",
    "sub[['year', 'month', 'day']] = sub['ID'].str.extract(r'_(\\d{4})_(\\d{2})_(\\d{2})')\n",
    "sub['ID'] = sub['ID'].str.replace(r'(_\\d{4}_\\d{2}_\\d{2})$', '', regex=True)\n",
    "sub['date'] = pd.to_datetime(sub[['year', 'month', 'day']])\n",
    "\n",
    "filtered_test = pd.merge(test, sub[['ID', 'date']], on=['ID', 'date'])\n",
    "\n",
    "# Helper dataframe\n",
    "tt2 = filtered_test.copy()"
   ]
  },
  {
   "cell_type": "code",
   "execution_count": 23,
   "id": "d3c67359-b697-4a62-a24e-c8c414cb1dd9",
   "metadata": {},
   "outputs": [],
   "source": [
    "train = train.sort_values(by=['date']).reset_index(drop=True)\n",
    "\n",
    "# Drop columns that we will not use\n",
    "train.drop(columns=['is_forecast', 'date', 'impressions_sum_lag_1', 'cost_sum_lag_1', 'impressions_mean_lag_1',\n",
    "       'cost_mean_lag_1', 'ID'], inplace=True)\n",
    "filtered_test.drop(columns=['is_forecast', 'date', 'clicks', 'impressions_sum_lag_1', 'cost_sum_lag_1', 'impressions_mean_lag_1',\n",
    "       'cost_mean_lag_1', 'ID'], inplace=True)"
   ]
  },
  {
   "cell_type": "markdown",
   "id": "481da72c-b2b9-4dcc-ac68-b12fd3089af2",
   "metadata": {},
   "source": [
    "## Model"
   ]
  },
  {
   "cell_type": "code",
   "execution_count": 24,
   "id": "ba741a02-2307-4cf0-b3e7-b629c491fa47",
   "metadata": {},
   "outputs": [],
   "source": [
    "# Flag to determine if test predictions should be computed\n",
    "COMPUTE_TEST_PRED = True\n",
    "\n",
    "# Dictionaries to store out-of-fold predictions and test predictions\n",
    "oof, test_pred = {}, {}\n",
    "\n",
    "# CV strategy\n",
    "kf = KFold(n_splits=3, shuffle=True, random_state=1)\n",
    "\n",
    "# Flag to determine if only a single fold should be used\n",
    "SINGLE_FOLD = False\n",
    "\n",
    "def cross_validate(model, label, features, n_repeats=1):\n",
    "    \n",
    "    \"\"\"\n",
    "    Perform cross-validation for a given model, and optionally compute test predictions.\n",
    "    \n",
    "    Parameters:\n",
    "    model (sklearn estimator): The machine learning model to be used.\n",
    "    label (str): A label for identifying the model in the outputs.\n",
    "    features (list): List of feature names to be used for training.\n",
    "    n_repeats (int): Number of times to repeat the training for averaging predictions (default is 1).\n",
    "    \n",
    "    Returns:\n",
    "    float: The mean score (RMSE) across all folds.\n",
    "    \"\"\"\n",
    "    \n",
    "    start_time = datetime.datetime.now()\n",
    "    scores = []\n",
    "    oof_preds = np.full_like(train.clicks, np.nan, dtype=float)\n",
    "\n",
    "    for fold, (idx_tr, idx_va) in enumerate(kf.split(train)):\n",
    "        # Split the training data into training and validation sets based on the current fold\n",
    "        X_tr = train.iloc[idx_tr][features]\n",
    "        X_va = train.iloc[idx_va][features]\n",
    "        y_tr = train.iloc[idx_tr].clicks\n",
    "        y_va = train.iloc[idx_va].clicks\n",
    "        \n",
    "        y_pred = np.zeros_like(y_va, dtype=float)\n",
    "\n",
    "        # Train the model n_repeats times and average the predictions\n",
    "        for i in range(n_repeats):\n",
    "            m = clone(model) # Clone the model to ensure fresh state\n",
    "            if n_repeats > 1:\n",
    "                mm = m\n",
    "                if isinstance(mm, Pipeline):\n",
    "                    mm = mm[-1] # Get the final estimator in the pipeline\n",
    "                mm.set_params(random_state=i) # Set random state for reproducibility\n",
    "            m.fit(X_tr, y_tr) # Fit the model on the training data\n",
    "            y_pred += m.predict(X_va) # Predict on the validation data\n",
    "        y_pred /= n_repeats # Average the predictions\n",
    "        \n",
    "        score = root_mean_squared_error(y_va, y_pred)\n",
    "        print(f\"# Fold {fold}: RMSE={score:.5f}\")\n",
    "        scores.append(score)\n",
    "        oof_preds[idx_va] = y_pred\n",
    "        if SINGLE_FOLD:\n",
    "            break # Exit the loop if only a single fold is to be used\n",
    "\n",
    "    mean_score = np.mean(scores)\n",
    "\n",
    "    elapsed_time = datetime.datetime.now() - start_time\n",
    "    print(f\"{Fore.GREEN}# Overall: {mean_score:.5f} {label}\"\n",
    "          f\"{' single fold' if SINGLE_FOLD else ''}\"\n",
    "          f\"   {int(np.round(elapsed_time.total_seconds() / 60))} min{Style.RESET_ALL}\")\n",
    "    oof[label] = oof_preds\n",
    "\n",
    "    # Calculate and plot feature importances\n",
    "    feature_importances = m.get_feature_importance()\n",
    "    feature_importance_df = pd.DataFrame({'Feature': features, 'Importance': feature_importances})\n",
    "    feature_importance_df = feature_importance_df.sort_values(by='Importance', ascending=False)\n",
    "\n",
    "    plt.figure(figsize=(10, 6))\n",
    "    plt.barh(feature_importance_df['Feature'], feature_importance_df['Importance'])\n",
    "    plt.gca().invert_yaxis()\n",
    "    plt.xlabel('Importance')\n",
    "    plt.ylabel('Feature')\n",
    "    plt.title(f'Feature Importances for {label}')\n",
    "    plt.show()\n",
    "\n",
    "    # Store the top features\n",
    "    top_5_features = feature_importance_df.head(5)['Feature'].tolist()\n",
    "    print(f\"Top 5 Features: {top_5_features}\")\n",
    "    \n",
    "    if COMPUTE_TEST_PRED:\n",
    "        # Retrain the model n_repeats times on the entire training data and average the test predictions\n",
    "        y_pred = np.zeros(len(filtered_test), dtype=float)\n",
    "        X_tr = train[features]\n",
    "        y_tr = train.clicks        \n",
    "        \n",
    "        for i in range(n_repeats):\n",
    "            m = clone(model)\n",
    "            if n_repeats > 1:\n",
    "                mm = m\n",
    "                if isinstance(mm, Pipeline):\n",
    "                    mm = mm[-1]\n",
    "                mm.set_params(random_state=i)\n",
    "            m.fit(X_tr, y_tr)\n",
    "            y_pred += m.predict(filtered_test[features])\n",
    "        y_pred /= n_repeats\n",
    "        test_pred[label] = y_pred\n",
    "    \n",
    "    return mean_score, top_5_features, X_tr, y_tr, m"
   ]
  },
  {
   "cell_type": "code",
   "execution_count": 26,
   "id": "3d4c98fa-96f2-4df8-83bb-dcbae629484e",
   "metadata": {},
   "outputs": [
    {
     "name": "stdout",
     "output_type": "stream",
     "text": [
      "# Fold 0: RMSE=29.39201\n",
      "# Fold 1: RMSE=17.71555\n",
      "# Fold 2: RMSE=14.83840\n",
      "\u001b[32m# Overall: 20.64866 CatBoost   1 min\u001b[0m\n"
     ]
    },
    {
     "data": {
      "image/png": "[encoded data removed]",
      "text/plain": [
       "<Figure size 1000x600 with 1 Axes>"
      ]
     },
     "metadata": {},
     "output_type": "display_data"
    },
    {
     "name": "stdout",
     "output_type": "stream",
     "text": [
      "Top 5 Features: ['impressions_sum', 'impressions_mean', 'headline2_len_sum', 'headline1_len_sum', 'headline1_len_mean']\n"
     ]
    }
   ],
   "source": [
    "initial_features = list(filtered_test.columns)\n",
    "cat_features = ['trend_mean']\n",
    "\n",
    "model = catboost.CatBoostRegressor(verbose=False, iterations=500, cat_features=cat_features)\n",
    "mean_score, top_5_features, X_tr, y_tr, m = cross_validate(model, 'CatBoost', features=initial_features)\n",
    "\n",
    "# Fold 0: RMSE=14.69955\n",
    "# Fold 1: RMSE=16.89513\n",
    "# Fold 2: RMSE=30.97323\n",
    "# Overall: 20.85597 CatBoost   1 min"
   ]
  },
  {
   "cell_type": "markdown",
   "id": "c183e6b5-d2e2-43ca-bc3f-95e618d3c9ee",
   "metadata": {},
   "source": [
    "## Analysis"
   ]
  },
  {
   "cell_type": "markdown",
   "id": "eb9f364d-6ff6-47ad-b413-846bc8d50404",
   "metadata": {},
   "source": [
    "Partial Dependence Plots show the marginal effect of a feature on the predicted outcome. We ca visualize how changes in a single feature impact the number of clicks while keeping other features constant."
   ]
  },
  {
   "cell_type": "code",
   "execution_count": null,
   "id": "981123b2-2f15-4ae3-9707-93e200fa9b4c",
   "metadata": {},
   "outputs": [],
   "source": [
    "%%time\n",
    "\n",
    "def analyze_multiple_features_impact(model, features, train, target, features_to_analyze):\n",
    "    \"\"\"\n",
    "    Analyze the impact of multiple features on the target using Partial Dependence Plot.\n",
    "\n",
    "    Parameters:\n",
    "    model (sklearn estimator): The trained machine learning model.\n",
    "    features (list): List of feature names used for training.\n",
    "    train (pd.DataFrame): The training dataset.\n",
    "    target (str): The target variable name.\n",
    "    features_to_analyze (list): The features for which to analyze the impact.\n",
    "\n",
    "    \"\"\"\n",
    "    \n",
    "    # Ensure all features to analyze are in the list of features\n",
    "    for feature in features_to_analyze:\n",
    "        if feature not in features:\n",
    "            raise ValueError(f\"The feature '{feature}' is not in the list of training features.\")\n",
    "\n",
    "    n_features = len(features_to_analyze)\n",
    "    n_cols = 2\n",
    "    n_rows = (n_features + n_cols - 1) // n_cols\n",
    "\n",
    "    fig, axes = plt.subplots(n_rows, n_cols, figsize=(15, 5 * n_rows))\n",
    "    axes = axes.flatten()\n",
    "\n",
    "    for i, feature in enumerate(features_to_analyze):\n",
    "        PartialDependenceDisplay.from_estimator(model, train[features], [feature], ax=axes[i], grid_resolution=50)\n",
    "        axes[i].set_title(f'Partial Dependence Plot for {feature}')\n",
    "        axes[i].set_xlabel(feature)\n",
    "        axes[i].set_ylabel('Partial dependence')\n",
    "\n",
    "    for j in range(i + 1, len(axes)):\n",
    "        fig.delaxes(axes[j])\n",
    "\n",
    "    plt.tight_layout()\n",
    "    plt.show()\n",
    "\n",
    "# Features to analyze\n",
    "features_to_analyze = ['impressions_sum', 'impressions_mean', 'headline1_len_sum', 'ad_description_len_sum', 'headline2_len_sum']\n",
    "analyze_multiple_features_impact(m, initial_features, train, 'clicks', features_to_analyze)"
   ]
  },
  {
   "cell_type": "markdown",
   "id": "94217356-9eae-4dff-9b02-c1f3c78d9563",
   "metadata": {},
   "source": [
    "## Report"
   ]
  },
  {
   "cell_type": "code",
   "execution_count": null,
   "id": "225dc91d-4e35-44f3-a69f-9dbc0c811326",
   "metadata": {},
   "outputs": [],
   "source": [
    "%%time\n",
    "\n",
    "def sensitivity_analysis(model, features, X_tr, y_tr, top_features, step=0.1, num_steps=10):\n",
    "    \"\"\"\n",
    "    Perform sensitivity analysis on the top features.\n",
    "\n",
    "    Parameters:\n",
    "    model (CatBoostRegressor): Trained model.\n",
    "    features (list): List of feature names.\n",
    "    X_tr (DataFrame): Training data features.\n",
    "    y_tr (Series): Training data target variable.\n",
    "    top_features (list): List of top features for sensitivity analysis.\n",
    "    step (float): The step size for changing feature values (default is 0.1).\n",
    "    num_steps (int): The number of steps to change the feature value (default is 10).\n",
    "\n",
    "    Returns:\n",
    "    DataFrame: Sensitivity analysis results for each feature.\n",
    "    \"\"\"\n",
    "    \n",
    "    results = []\n",
    "    \n",
    "    for feature in top_features:\n",
    "        feature_vals = np.linspace(\n",
    "            X_tr[feature].min(), \n",
    "            X_tr[feature].max(), \n",
    "            num=num_steps\n",
    "        )\n",
    "        mean_clicks = []\n",
    "        \n",
    "        for val in feature_vals:\n",
    "            X_temp = X_tr.copy()\n",
    "            X_temp[feature] = val\n",
    "            predictions = model.predict(X_temp)\n",
    "            mean_clicks.append(np.mean(predictions))\n",
    "        \n",
    "        results.append({\n",
    "            'Feature': feature,\n",
    "            'Values': feature_vals,\n",
    "            'Mean_Clicks': mean_clicks\n",
    "        })\n",
    "        \n",
    "    return results\n",
    "\n",
    "# Perform sensitivity analysis\n",
    "results = sensitivity_analysis(m, initial_features, X_tr, y_tr, top_5_features, step=0.2, num_steps=20)\n",
    "\n",
    "num_features = len(results)\n",
    "num_cols = 2\n",
    "num_rows = (num_features + 1) // num_cols\n",
    "\n",
    "fig, axs = plt.subplots(num_rows, num_cols, figsize=(15, num_rows * 6))\n",
    "\n",
    "for i, result in enumerate(results):\n",
    "    row = i // num_cols\n",
    "    col = i % num_cols\n",
    "    ax = axs[row, col]\n",
    "    ax.plot(result['Values'], result['Mean_Clicks'], marker='o')\n",
    "    ax.set_title(f'Sensitivity Analysis for {result[\"Feature\"]}')\n",
    "    ax.set_xlabel(f'{result[\"Feature\"]} Value')\n",
    "    ax.set_ylabel('Predicted Mean Clicks')\n",
    "    ax.grid(True)\n",
    "\n",
    "for j in range(i + 1, num_rows * num_cols):\n",
    "    fig.delaxes(axs.flatten()[j])\n",
    "\n",
    "plt.tight_layout()\n",
    "plt.show()"
   ]
  },
  {
   "cell_type": "markdown",
   "id": "5897c4fa-641c-4a7e-855c-4a03d85d7f8b",
   "metadata": {},
   "source": [
    "## Predictions"
   ]
  },
  {
   "cell_type": "code",
   "execution_count": 29,
   "id": "c49da05e-38f4-4448-a20a-afb3a81fea2d",
   "metadata": {},
   "outputs": [],
   "source": [
    "# if the value of a prediction is negative, then turns into zero\n",
    "test_pred['CatBoost'] = np.where(test_pred['CatBoost'] < 0, 0, test_pred['CatBoost'])\n",
    "filtered_test['clicks'] = test_pred['CatBoost']\n",
    "\n",
    "# date was dropped, so we get the feature back\n",
    "filtered_test['date'] = tt2['date']\n",
    "filtered_test['ID'] = tt2['ID']"
   ]
  },
  {
   "cell_type": "code",
   "execution_count": 30,
   "id": "b66a3be0-ead8-4ca7-a86e-fb7a11c97318",
   "metadata": {},
   "outputs": [
    {
     "data": {
      "text/html": [
       "<div>\n",
       "<style scoped>\n",
       "    .dataframe tbody tr th:only-of-type {\n",
       "        vertical-align: middle;\n",
       "    }\n",
       "\n",
       "    .dataframe tbody tr th {\n",
       "        vertical-align: top;\n",
       "    }\n",
       "\n",
       "    .dataframe thead th {\n",
       "        text-align: right;\n",
       "    }\n",
       "</style>\n",
       "<table border=\"1\" class=\"dataframe\">\n",
       "  <thead>\n",
       "    <tr style=\"text-align: right;\">\n",
       "      <th></th>\n",
       "      <th>ID</th>\n",
       "      <th>clicks</th>\n",
       "    </tr>\n",
       "  </thead>\n",
       "  <tbody>\n",
       "    <tr>\n",
       "      <th>0</th>\n",
       "      <td>ID_5da86e71bf5dee4cf5047046_2024_01_22</td>\n",
       "      <td>109.343786</td>\n",
       "    </tr>\n",
       "    <tr>\n",
       "      <th>1</th>\n",
       "      <td>ID_5da86e71bf5dee4cf5047046_2024_01_29</td>\n",
       "      <td>60.287973</td>\n",
       "    </tr>\n",
       "    <tr>\n",
       "      <th>2</th>\n",
       "      <td>ID_5e43c29e6279884e2827d894_2024_02_21</td>\n",
       "      <td>3.014387</td>\n",
       "    </tr>\n",
       "    <tr>\n",
       "      <th>3</th>\n",
       "      <td>ID_5e43c29e6279884e2827d894_2024_02_28</td>\n",
       "      <td>5.141059</td>\n",
       "    </tr>\n",
       "    <tr>\n",
       "      <th>4</th>\n",
       "      <td>ID_5e4e7b480e374330ee151305_2023_12_04</td>\n",
       "      <td>3.209872</td>\n",
       "    </tr>\n",
       "  </tbody>\n",
       "</table>\n",
       "</div>"
      ],
      "text/plain": [
       "                                       ID      clicks\n",
       "0  ID_5da86e71bf5dee4cf5047046_2024_01_22  109.343786\n",
       "1  ID_5da86e71bf5dee4cf5047046_2024_01_29   60.287973\n",
       "2  ID_5e43c29e6279884e2827d894_2024_02_21    3.014387\n",
       "3  ID_5e43c29e6279884e2827d894_2024_02_28    5.141059\n",
       "4  ID_5e4e7b480e374330ee151305_2023_12_04    3.209872"
      ]
     },
     "execution_count": 30,
     "metadata": {},
     "output_type": "execute_result"
    }
   ],
   "source": [
    "preds_data = pd.merge(sub, filtered_test, on=['ID', 'date'], how='left')\n",
    "\n",
    "click_sums = preds_data.groupby(['ID', 'date'])['clicks_y'].sum().reset_index()\n",
    "click_sums.rename(columns={'clicks_y': 'sum_clicks'}, inplace=True)\n",
    "sub = pd.merge(sub, click_sums, on=['ID', 'date'], how='left')\n",
    "sub['clicks'] = sub['sum_clicks']\n",
    "\n",
    "# Drop the temporary 'sum_clicks' column\n",
    "sub.drop(columns='sum_clicks', inplace=True)\n",
    "\n",
    "# submission file\n",
    "submission['clicks'] = sub['clicks']\n",
    "submission.head(5)"
   ]
  },
  {
   "cell_type": "code",
   "execution_count": 31,
   "id": "a717212a-2857-4c54-991a-7415b2e0d777",
   "metadata": {},
   "outputs": [],
   "source": [
    "submission.to_csv('submission.csv', index=False)"
   ]
  },
  {
   "cell_type": "code",
   "execution_count": null,
   "id": "28ce9580-12ef-4b62-80bf-883f9b67ed04",
   "metadata": {},
   "outputs": [],
   "source": []
  },
  {
   "cell_type": "code",
   "execution_count": null,
   "id": "a50cf02f-f159-411a-8182-cae56a908ca5",
   "metadata": {},
   "outputs": [],
   "source": []
  }
 ],
 "metadata": {
  "kernelspec": {
   "display_name": "Python 3 (ipykernel)",
   "language": "python",
   "name": "python3"
  },
  "language_info": {
   "codemirror_mode": {
    "name": "ipython",
    "version": 3
   },
   "file_extension": ".py",
   "mimetype": "text/x-python",
   "name": "python",
   "nbconvert_exporter": "python",
   "pygments_lexer": "ipython3",
   "version": "3.12.2"
  }
 },
 "nbformat": 4,
 "nbformat_minor": 5
}
